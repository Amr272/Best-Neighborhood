{
 "cells": [
  {
   "cell_type": "markdown",
   "metadata": {},
   "source": [
    "# Final Project - Matthew Flancer\n",
    "\n",
    "Metric - Food Growing Locations: \n",
    "\n",
    "Dataset: https://data.wprdc.org/dataset/grow-pittsburgh-food-gardens - \"Food growing locations registered with Grow Pittsburgh. Data includes community gardens, community farms, schoolyard gardens, or urban farms\"\n",
    "       "
   ]
  },
  {
   "cell_type": "code",
   "execution_count": 3,
   "metadata": {},
   "outputs": [
    {
     "data": {
      "text/plain": [
       "15206.0    13\n",
       "15219.0     7\n",
       "15221.0     5\n",
       "15213.0     5\n",
       "15201.0     5\n",
       "15208.0     4\n",
       "15224.0     3\n",
       "15210.0     3\n",
       "15207.0     3\n",
       "15217.0     2\n",
       "15212.0     2\n",
       "15220.0     2\n",
       "15238.0     2\n",
       "15025.0     1\n",
       "15214.0     1\n",
       "15120.0     1\n",
       "15102.0     1\n",
       "15132.0     1\n",
       "15235.0     1\n",
       "15202.0     1\n",
       "15223.0     1\n",
       "16441.0     1\n",
       "15108.0     1\n",
       "15106.0     1\n",
       "15260.0     1\n",
       "15205.0     1\n",
       "16511.0     1\n",
       "16335.0     1\n",
       "15218.0     1\n",
       "15135.0     1\n",
       "15237.0     1\n",
       "15203.0     1\n",
       "15342.0     1\n",
       "15204.0     1\n",
       "15131.0     1\n",
       "Name: zip_code, dtype: int64"
      ]
     },
     "execution_count": 3,
     "metadata": {},
     "output_type": "execute_result"
    }
   ],
   "source": [
    "import pandas as pd\n",
    "import numpy as np\n",
    "%matplotlib inline\n",
    "import matplotlib.pyplot as plt\n",
    "\n",
    "data = pd.read_csv(\"growpghgardens201712.csv\")\n",
    "\n",
    "#This will display the raw data of how many food growing locations are in each zipcode\n",
    "\n",
    "data['zip_code'].value_counts()"
   ]
  },
  {
   "cell_type": "code",
   "execution_count": 21,
   "metadata": {},
   "outputs": [
    {
     "data": {
      "text/plain": [
       "<matplotlib.axes._subplots.AxesSubplot at 0x7f1b218985f8>"
      ]
     },
     "execution_count": 21,
     "metadata": {},
     "output_type": "execute_result"
    },
    {
     "data": {
      "image/png": "[encoded data removed]",
      "text/plain": [
       "<Figure size 576x396 with 1 Axes>"
      ]
     },
     "metadata": {},
     "output_type": "display_data"
    }
   ],
   "source": [
    "#this will display the number of food growing locations for each zip code in a bar graph\n",
    "\n",
    "plt.title(\"Food Growing Locations\")\n",
    "plt.xlabel(\"Zipcode\")\n",
    "plt.ylabel(\"# of Food Growing Locations\")\n",
    "plt.style.use('seaborn')\n",
    "\n",
    "data['zip_code'].value_counts().plot.bar()\n"
   ]
  },
  {
   "cell_type": "markdown",
   "metadata": {},
   "source": [
    "### Ordered list of the top 12 neighborhoods (based on food growing locations):\n",
    "\n",
    "* 15206 - Larimer - 13\n",
    "* 15219 - Central Busines District - 7\n",
    "* 15221 - Regent Square - 5\n",
    "* 15213 - North Oakland - 5\n",
    "* 15201 - Central Lawrenceville - 5\n",
    "* 15208 - North Point Breeze - 4\n",
    "* 15224 - Bloomfield - 3\n",
    "* 15210 - St. Clair - 3\n",
    "* 15207 - West Mifflin, Baldwin, Munhall, West Homestead - 3\n",
    "* 15217 - Squirrel Hill South - 2\n",
    "* 15212 - Perry South - 2\n",
    "* 15220 - Elliot - 2\n",
    "\n",
    "\n",
    "Using food growing locations as the metric, Larimer is the best neighborhood in Pittsburgh."
   ]
  },
  {
   "cell_type": "markdown",
   "metadata": {},
   "source": [
    "### Interactive map\n",
    "\n",
    "Online interactive map: https://www.growpittsburgh.org/garden-and-farm-resources/growers-map/\n",
    "\n",
    "This map allows you to move around the city of Pittsburgh and click on different food growing locations to find their address, website, or other information."
   ]
  }
 ],
 "metadata": {
  "kernelspec": {
   "display_name": "Python 3",
   "language": "python",
   "name": "python3"
  },
  "language_info": {
   "codemirror_mode": {
    "name": "ipython",
    "version": 3
   },
   "file_extension": ".py",
   "mimetype": "text/x-python",
   "name": "python",
   "nbconvert_exporter": "python",
   "pygments_lexer": "ipython3",
   "version": "3.6.7"
  }
 },
 "nbformat": 4,
 "nbformat_minor": 4
}
